{
 "cells": [
  {
   "cell_type": "code",
   "execution_count": 1,
   "metadata": {},
   "outputs": [
    {
     "name": "stdout",
     "output_type": "stream",
     "text": [
      "Enter Excel File name with Extension:PivotData.xlsx\n"
     ]
    }
   ],
   "source": [
    "import pandas as pd\n",
    "import numpy as np\n",
    "\n",
    "# piovtFunc will take input an excel file and will give other as output\n",
    "# Functionality of Piovt Table in python\n",
    "\n",
    "def pivotFunc(input):\n",
    "    df = pd.read_excel(input)\n",
    "    pivot_df = pd.pivot_table(df,index=[\"PO\"], values=[\"Dzn\"],aggfunc=np.sum)\n",
    "    newFile = pivot_df.to_excel(\"New_Pivot.xlsx\") \n",
    "    return newFile\n",
    "userInput = input(\"Enter Excel File name with Extension:\")\n",
    "pivotFunc(userInput) \n",
    "\n"
   ]
  },
  {
   "cell_type": "code",
   "execution_count": null,
   "metadata": {},
   "outputs": [],
   "source": []
  }
 ],
 "metadata": {
  "kernelspec": {
   "display_name": "Python 3",
   "language": "python",
   "name": "python3"
  },
  "language_info": {
   "codemirror_mode": {
    "name": "ipython",
    "version": 3
   },
   "file_extension": ".py",
   "mimetype": "text/x-python",
   "name": "python",
   "nbconvert_exporter": "python",
   "pygments_lexer": "ipython3",
   "version": "3.7.6"
  }
 },
 "nbformat": 4,
 "nbformat_minor": 4
}
